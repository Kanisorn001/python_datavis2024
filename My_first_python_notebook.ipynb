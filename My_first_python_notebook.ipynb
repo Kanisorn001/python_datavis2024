{
  "nbformat": 4,
  "nbformat_minor": 0,
  "metadata": {
    "colab": {
      "provenance": [],
      "authorship_tag": "ABX9TyOdOX6QzOMUkMxScAVyIQmc",
      "include_colab_link": true
    },
    "kernelspec": {
      "name": "python3",
      "display_name": "Python 3"
    },
    "language_info": {
      "name": "python"
    }
  },
  "cells": [
    {
      "cell_type": "markdown",
      "metadata": {
        "id": "view-in-github",
        "colab_type": "text"
      },
      "source": [
        "<a href=\"https://colab.research.google.com/github/Kanisorn001/python_datavis2024/blob/main/My_first_python_notebook.ipynb\" target=\"_parent\"><img src=\"https://colab.research.google.com/assets/colab-badge.svg\" alt=\"Open In Colab\"/></a>"
      ]
    },
    {
      "cell_type": "markdown",
      "source": [
        "Basic Programing for data Science & Data Visualization\n",
        "\n",
        "here we use **Markdown**"
      ],
      "metadata": {
        "id": "bwg_Q1msRrjL"
      }
    },
    {
      "cell_type": "code",
      "execution_count": 1,
      "metadata": {
        "colab": {
          "base_uri": "https://localhost:8080/"
        },
        "id": "DVUabI5dQ0--",
        "outputId": "ea40982a-dfbd-4c1b-afcc-7516deca9e3e"
      },
      "outputs": [
        {
          "output_type": "stream",
          "name": "stdout",
          "text": [
            "Kanisorn\n"
          ]
        }
      ],
      "source": [
        "print('Kanisorn')"
      ]
    },
    {
      "cell_type": "code",
      "source": [
        "print('Kudklang')"
      ],
      "metadata": {
        "colab": {
          "base_uri": "https://localhost:8080/"
        },
        "id": "iHfr88_HS4Ee",
        "outputId": "51283ae6-3e49-4a51-d99a-1df0344e57b8"
      },
      "execution_count": 2,
      "outputs": [
        {
          "output_type": "stream",
          "name": "stdout",
          "text": [
            "Kudklang\n"
          ]
        }
      ]
    },
    {
      "cell_type": "code",
      "source": [],
      "metadata": {
        "id": "DlEUBhU_S4Cw"
      },
      "execution_count": null,
      "outputs": []
    }
  ]
}